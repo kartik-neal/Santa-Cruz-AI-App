{
 "cells": [
  {
   "cell_type": "markdown",
   "metadata": {},
   "source": [
    "## Genearte AES Encrypted Base64 encode URL and Keys"
   ]
  },
  {
   "cell_type": "code",
   "execution_count": 121,
   "metadata": {},
   "outputs": [],
   "source": [
    "import base64\n",
    "from Crypto.Cipher import AES\n",
    "from Crypto.Random import get_random_bytes\n",
    "import base64\n",
    "\n",
    "byte_len = 16\n",
    "block_len = 16\n",
    "buffer_len_size = 2\n",
    "\n",
    "key = get_random_bytes(byte_len)\n",
    "iv = get_random_bytes(byte_len)\n",
    "cipher = AES.new(key, AES.MODE_CBC, IV=iv)\n",
    "\n",
    "def pad(s):\n",
    "    return s + (block_len - len(s) % block_len) * chr(block_len - len(s) % block_len)\n",
    "\n",
    "def unpad(s):\n",
    "    return s[:-ord(s[len(s)-1:])]\n",
    "\n",
    "def encrypt(raw):\n",
    "    return base64.b64encode(iv + cipher.encrypt(pad(raw).encode()))\n",
    "\n",
    "def decrypt(enc):\n",
    "    enc = base64.b64decode(enc)\n",
    "    iv = enc[:byte_len]\n",
    "    cipher = AES.new(key, AES.MODE_CBC, IV=iv)\n",
    "    return unpad(cipher.decrypt(enc[byte_len:]).decode('utf-8'))\n",
    "    "
   ]
  },
  {
   "cell_type": "code",
   "execution_count": 122,
   "metadata": {},
   "outputs": [
    {
     "name": "stdout",
     "output_type": "stream",
     "text": [
      "key: b'ADvZXFnuDd5zzjVeztVi3w=='\n",
      "iv: b'Xn1j33dEt9CqYiV4nShGvg=='\n",
      "enc: b'Xn1j33dEt9CqYiV4nShGvkhJvdDTKk+ITFllvvRZ0XCP+qAND1YyMs8gu/bMBe1g'\n"
     ]
    }
   ],
   "source": [
    "url=\"/tmp/video/zoffice.mp4\"\n",
    "enc = encrypt(url)\n",
    "print(f\"key: {base64.b64encode(key)}\")\n",
    "print(f\"iv: {base64.b64encode(iv)}\")\n",
    "print(f\"enc: {enc}\")"
   ]
  }
 ],
 "metadata": {
  "kernelspec": {
   "display_name": "Python 3",
   "language": "python",
   "name": "python3"
  },
  "language_info": {
   "codemirror_mode": {
    "name": "ipython",
    "version": 3
   },
   "file_extension": ".py",
   "mimetype": "text/x-python",
   "name": "python",
   "nbconvert_exporter": "python",
   "pygments_lexer": "ipython3",
   "version": "3.6.10"
  }
 },
 "nbformat": 4,
 "nbformat_minor": 4
}
