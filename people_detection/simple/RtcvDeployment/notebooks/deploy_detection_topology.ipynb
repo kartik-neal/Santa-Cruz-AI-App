{
 "metadata": {
  "language_info": {
   "codemirror_mode": {
    "name": "ipython",
    "version": 3
   },
   "file_extension": ".py",
   "mimetype": "text/x-python",
   "name": "python",
   "nbconvert_exporter": "python",
   "pygments_lexer": "ipython3",
   "version": "3.7.7-final"
  },
  "orig_nbformat": 2,
  "kernelspec": {
   "name": "python37764bitpy37tensorflowconda19a90e5123a14c61a0cad79ae0c4fbf8",
   "display_name": "Python 3.7.7 64-bit ('py37_tensorflow': conda)"
  }
 },
 "nbformat": 4,
 "nbformat_minor": 2,
 "cells": [
  {
   "cell_type": "code",
   "execution_count": null,
   "metadata": {
    "tags": []
   },
   "outputs": [],
   "source": [
    "!pip install azure-iot-device\n",
    "!pip install azure-iot-hub\n",
    "!pip install python-dotenv"
   ]
  },
  {
   "cell_type": "code",
   "execution_count": 1,
   "metadata": {},
   "outputs": [],
   "source": [
    "import sys\n",
    "from dotenv import get_key, find_dotenv\n",
    "sys.path.append('../utilities/video-analysis/shared/graph_manager')\n",
    "from graph_manager import GraphManager\n",
    "\n",
    "# find the environment file .env\n",
    "env_path = find_dotenv(raise_error_if_not_found=True)\n",
    "\n",
    "iotHubConnString = get_key(env_path, \"IOT_HUB_CONN_STRING\")\n",
    "iotDeviceId = get_key(env_path, \"IOT_DEVICE_ID\")\n",
    "\n",
    "moduleId = \"lvaEdge\" # Must be same as the name that we assigned to LVA module in the \"deployment.lvaedge_rocketserver_rtspsim.template.json\" file\n",
    "operationsApiVersion = \"1.0\"  # Must be same as the version number in the \"topology.json\" file\n",
    "\n",
    "graphManager = GraphManager(iotHubConnString, iotDeviceId, moduleId, operationsApiVersion)"
   ]
  },
  {
   "cell_type": "markdown",
   "metadata": {},
   "source": [
    "### List existing topologies"
   ]
  },
  {
   "cell_type": "code",
   "execution_count": 2,
   "metadata": {
    "tags": []
   },
   "outputs": [
    {
     "output_type": "stream",
     "name": "stdout",
     "text": "{'additional_properties': {}, 'status': 200, 'payload': {'value': []}}\n"
    }
   ],
   "source": [
    "# List topologies\n",
    "response = graphManager.GenericCall(\"GraphTopologyList\", {})\n",
    "print(response)"
   ]
  },
  {
   "cell_type": "code",
   "execution_count": 3,
   "metadata": {
    "tags": []
   },
   "outputs": [
    {
     "output_type": "stream",
     "name": "stdout",
     "text": "{'additional_properties': {}, 'status': 200, 'payload': {'value': []}}\n"
    }
   ],
   "source": [
    "# List instances\n",
    "response = graphManager.GenericCall(\"GraphInstanceList\", {})\n",
    "print(response)"
   ]
  },
  {
   "cell_type": "code",
   "execution_count": 4,
   "metadata": {},
   "outputs": [],
   "source": [
    "topologyFile = os.path.abspath(\"../modules/Detector/httpExtension/topology.json\")\n",
    "operationParams = {\"topologyFile\": topologyFile}"
   ]
  },
  {
   "cell_type": "code",
   "execution_count": 5,
   "metadata": {
    "tags": []
   },
   "outputs": [
    {
     "output_type": "stream",
     "name": "stdout",
     "text": "{'additional_properties': {}, 'status': 201, 'payload': {'systemData': {'createdAt': '2020-08-04T01:14:40.453Z', 'lastModifiedAt': '2020-08-04T01:14:40.453Z'}, 'name': 'InferencingWithHttpExtension', 'properties': {'description': 'Analyzing live video using HTTP Extension to send images to an external inference engine', 'parameters': [{'name': 'rtspUserName', 'type': 'String', 'description': 'rtsp source user name.', 'default': 'dummyUserName'}, {'name': 'rtspPassword', 'type': 'String', 'description': 'rtsp source password.', 'default': 'dummyPassword'}, {'name': 'rtspUrl', 'type': 'String', 'description': 'rtsp Url'}, {'name': 'inferencingUrl', 'type': 'String', 'description': 'inferencing Url', 'default': 'http://yolov3/score'}, {'name': 'inferencingUserName', 'type': 'String', 'description': 'inferencing endpoint user name.', 'default': 'dummyUserName'}, {'name': 'inferencingPassword', 'type': 'String', 'description': 'inferencing endpoint password.', 'default': 'dummyPassword'}, {'name': 'imageEncoding', 'type': 'String', 'description': 'image encoding for frames', 'default': 'bmp'}, {'name': 'imageScaleMode', 'type': 'String', 'description': 'image scaling mode', 'default': 'preserveAspectRatio'}, {'name': 'frameWidth', 'type': 'String', 'description': 'Width of the video frame to be received from LVA.', 'default': '416'}, {'name': 'frameHeight', 'type': 'String', 'description': 'Height of the video frame to be received from LVA.', 'default': '416'}, {'name': 'frameRate', 'type': 'String', 'description': 'Rate of the frames per second to be received from LVA.', 'default': '2'}], 'sources': [{'@type': '#Microsoft.Media.MediaGraphRtspSource', 'name': 'rtspSource', 'transport': 'tcp', 'endpoint': {'@type': '#Microsoft.Media.MediaGraphUnsecuredEndpoint', 'url': '${rtspUrl}', 'credentials': {'@type': '#Microsoft.Media.MediaGraphUsernamePasswordCredentials', 'username': '${rtspUserName}'}}}], 'processors': [{'@type': '#Microsoft.Media.MediaGraphFrameRateFilterProcessor', 'maximumFps': '${frameRate}', 'name': 'frameRateFilter', 'inputs': [{'nodeName': 'rtspSource', 'outputSelectors': []}]}, {'@type': '#Microsoft.Media.MediaGraphHttpExtension', 'endpoint': {'@type': '#Microsoft.Media.MediaGraphUnsecuredEndpoint', 'url': '${inferencingUrl}', 'credentials': {'@type': '#Microsoft.Media.MediaGraphUsernamePasswordCredentials', 'username': '${inferencingUserName}'}}, 'image': {'scale': {'mode': '${imageScaleMode}', 'width': '${frameWidth}', 'height': '${frameHeight}'}, 'format': {'@type': '#Microsoft.Media.MediaGraphImageFormatEncoded', 'encoding': '${imageEncoding}'}}, 'name': 'httpExtension', 'inputs': [{'nodeName': 'frameRateFilter', 'outputSelectors': []}]}], 'sinks': [{'@type': '#Microsoft.Media.MediaGraphIoTHubMessageSink', 'hubOutputName': 'inferenceOutput', 'name': 'hubSink', 'inputs': [{'nodeName': 'httpExtension', 'outputSelectors': []}]}]}}}\n"
    }
   ],
   "source": [
    "response = graphManager.GraphTopologySet(operationParams)\n",
    "print(response)"
   ]
  },
  {
   "cell_type": "markdown",
   "metadata": {},
   "source": [
    "### Set actual topology parameters"
   ]
  },
  {
   "cell_type": "code",
   "execution_count": 6,
   "metadata": {},
   "outputs": [],
   "source": [
    "rtspUrl = get_key(env_path, \"CROSSING_VIDEO_URL\")\n",
    "\n",
    "#inferencingUrl = get_key(env_path, \"PEOPLE_DETECTOR\")\n",
    "inferencingUrl=get_key(env_path, \"OPENVINO_DETECTOR\")\n",
    "\n",
    "topologyInstanceName =  \"Sample-Graph-1\"\n",
    "topologyName = \"InferencingWithHttpExtension\"\n",
    "\n",
    "mediaGraphTopologyParameters = {\n",
    "          \"name\": topologyInstanceName,\n",
    "          \"properties\": {\n",
    "            \"topologyName\": topologyName,\n",
    "            \"description\": \"Sample graph description\",\n",
    "            \"parameters\": [\n",
    "              {\n",
    "                \"name\": \"rtspUrl\",\n",
    "                \"value\": rtspUrl\n",
    "              },\n",
    "              {\n",
    "                \"name\": \"rtspUserName\",\n",
    "                \"value\": \"username\"\n",
    "              },\n",
    "              {\n",
    "                \"name\": \"rtspPassword\",\n",
    "                \"value\": \"password\"\n",
    "              },\n",
    "              {\n",
    "                \"name\": \"inferencingUrl\",\n",
    "                \"value\": inferencingUrl\n",
    "              },\n",
    "              {\n",
    "                \"name\": \"inferencingUserName\",\n",
    "                \"value\": \"username\"\n",
    "              },\n",
    "              {\n",
    "                \"name\": \"inferencingPassword\",\n",
    "                \"value\": \"password\"\n",
    "              },\n",
    "              {\n",
    "                \"name\": \"imageEncoding\",\n",
    "                \"value\": \"jpeg\"\n",
    "              },\n",
    "              {\n",
    "                \"name\": \"imageScaleMode\",\n",
    "                \"value\": \"pad\"\n",
    "              },\n",
    "              {\n",
    "                \"name\": \"frameWidth\",\n",
    "                \"value\": \"1920\"\n",
    "              },\n",
    "              {\n",
    "                \"name\": \"frameHeight\",\n",
    "                \"value\": \"1072\"\n",
    "              },\n",
    "              {\n",
    "                \"name\": \"frameRate\",\n",
    "                \"value\": \"30\"\n",
    "              }\n",
    "            ]\n",
    "          }\n",
    "        }"
   ]
  },
  {
   "cell_type": "markdown",
   "metadata": {},
   "source": [
    "#### Set topology instance"
   ]
  },
  {
   "cell_type": "code",
   "execution_count": 7,
   "metadata": {
    "tags": []
   },
   "outputs": [
    {
     "output_type": "stream",
     "name": "stdout",
     "text": "{'additional_properties': {}, 'status': 201, 'payload': {'systemData': {'createdAt': '2020-08-04T01:14:58.283Z', 'lastModifiedAt': '2020-08-04T01:14:58.283Z'}, 'name': 'Sample-Graph-1', 'properties': {'state': 'Inactive', 'description': 'Sample graph description', 'topologyName': 'InferencingWithHttpExtension', 'parameters': [{'name': 'rtspUrl', 'value': 'rtsp://rtspsim/media/caffeteria.mkv'}, {'name': 'rtspUserName', 'value': 'username'}, {'name': 'rtspPassword', 'value': 'password'}, {'name': 'inferencingUrl', 'value': 'http://openvino:4000/personVehicleBikeDetection'}, {'name': 'inferencingUserName', 'value': 'username'}, {'name': 'inferencingPassword', 'value': 'password'}, {'name': 'imageEncoding', 'value': 'jpeg'}, {'name': 'imageScaleMode', 'value': 'pad'}, {'name': 'frameWidth', 'value': '1920'}, {'name': 'frameHeight', 'value': '1072'}, {'name': 'frameRate', 'value': '30'}]}}}\n"
    }
   ],
   "source": [
    "# Set topology instance\n",
    "response = graphManager.GenericCall(\"GraphInstanceSet\", mediaGraphTopologyParameters)\n",
    "print(response)"
   ]
  },
  {
   "cell_type": "markdown",
   "metadata": {},
   "source": [
    "### Activate Graph"
   ]
  },
  {
   "cell_type": "code",
   "execution_count": 8,
   "metadata": {
    "tags": []
   },
   "outputs": [
    {
     "output_type": "stream",
     "name": "stdout",
     "text": "{'additional_properties': {}, 'status': 200, 'payload': None}\n"
    }
   ],
   "source": [
    "# Activate topology instance\n",
    "operationParams = {\"name\": topologyInstanceName}\n",
    "\n",
    "response = graphManager.GenericCall(\"GraphInstanceActivate\", operationParams)\n",
    "print(response)"
   ]
  },
  {
   "cell_type": "markdown",
   "metadata": {},
   "source": [
    "### Deactivate Graph"
   ]
  },
  {
   "cell_type": "code",
   "execution_count": 49,
   "metadata": {
    "tags": []
   },
   "outputs": [
    {
     "output_type": "stream",
     "name": "stdout",
     "text": "{'additional_properties': {}, 'status': 200, 'payload': {'value': [{'systemData': {'createdAt': '2020-08-04T00:59:32.848Z', 'lastModifiedAt': '2020-08-04T00:59:32.848Z'}, 'name': 'Sample-Graph-1', 'properties': {'state': 'Active', 'description': 'Sample graph description', 'topologyName': 'InferencingWithHttpExtension', 'parameters': [{'name': 'rtspUrl', 'value': 'rtsp://rtspsim/media/caffeteria.mkv'}, {'name': 'rtspUserName', 'value': 'username'}, {'name': 'rtspPassword', 'value': 'password'}, {'name': 'inferencingUrl', 'value': 'http://127.0.0.1:4000/personVehicleBikeDetection'}, {'name': 'inferencingUserName', 'value': 'username'}, {'name': 'inferencingPassword', 'value': 'password'}, {'name': 'imageEncoding', 'value': 'jpeg'}, {'name': 'imageScaleMode', 'value': 'pad'}, {'name': 'frameWidth', 'value': '1920'}, {'name': 'frameHeight', 'value': '1072'}, {'name': 'frameRate', 'value': '30'}]}}]}}\n"
    }
   ],
   "source": [
    "graphManager.GenericCall(\"GraphInstanceDeactivate\", operationParams)\n",
    "print(response)\n",
    "\n"
   ]
  },
  {
   "cell_type": "markdown",
   "metadata": {},
   "source": [
    "### Delete Graph"
   ]
  },
  {
   "cell_type": "code",
   "execution_count": 50,
   "metadata": {
    "tags": []
   },
   "outputs": [
    {
     "output_type": "stream",
     "name": "stdout",
     "text": "{'additional_properties': {}, 'status': 200, 'payload': {'value': [{'systemData': {'createdAt': '2020-08-04T00:59:32.848Z', 'lastModifiedAt': '2020-08-04T00:59:32.848Z'}, 'name': 'Sample-Graph-1', 'properties': {'state': 'Active', 'description': 'Sample graph description', 'topologyName': 'InferencingWithHttpExtension', 'parameters': [{'name': 'rtspUrl', 'value': 'rtsp://rtspsim/media/caffeteria.mkv'}, {'name': 'rtspUserName', 'value': 'username'}, {'name': 'rtspPassword', 'value': 'password'}, {'name': 'inferencingUrl', 'value': 'http://127.0.0.1:4000/personVehicleBikeDetection'}, {'name': 'inferencingUserName', 'value': 'username'}, {'name': 'inferencingPassword', 'value': 'password'}, {'name': 'imageEncoding', 'value': 'jpeg'}, {'name': 'imageScaleMode', 'value': 'pad'}, {'name': 'frameWidth', 'value': '1920'}, {'name': 'frameHeight', 'value': '1072'}, {'name': 'frameRate', 'value': '30'}]}}]}}\n"
    }
   ],
   "source": [
    "graphManager.GenericCall(\"GraphInstanceDelete\", operationParams)\n",
    "print(response)"
   ]
  },
  {
   "cell_type": "markdown",
   "metadata": {},
   "source": [
    "### Delete Topology"
   ]
  },
  {
   "cell_type": "code",
   "execution_count": 51,
   "metadata": {
    "tags": []
   },
   "outputs": [
    {
     "output_type": "stream",
     "name": "stdout",
     "text": "{'additional_properties': {}, 'status': 200, 'payload': {'value': [{'systemData': {'createdAt': '2020-08-04T00:59:32.848Z', 'lastModifiedAt': '2020-08-04T00:59:32.848Z'}, 'name': 'Sample-Graph-1', 'properties': {'state': 'Active', 'description': 'Sample graph description', 'topologyName': 'InferencingWithHttpExtension', 'parameters': [{'name': 'rtspUrl', 'value': 'rtsp://rtspsim/media/caffeteria.mkv'}, {'name': 'rtspUserName', 'value': 'username'}, {'name': 'rtspPassword', 'value': 'password'}, {'name': 'inferencingUrl', 'value': 'http://127.0.0.1:4000/personVehicleBikeDetection'}, {'name': 'inferencingUserName', 'value': 'username'}, {'name': 'inferencingPassword', 'value': 'password'}, {'name': 'imageEncoding', 'value': 'jpeg'}, {'name': 'imageScaleMode', 'value': 'pad'}, {'name': 'frameWidth', 'value': '1920'}, {'name': 'frameHeight', 'value': '1072'}, {'name': 'frameRate', 'value': '30'}]}}]}}\n"
    }
   ],
   "source": [
    "deleteParams = {\"name\": topologyName}\n",
    "\n",
    "graphManager.GenericCall(\"GraphTopologyDelete\", deleteParams)\n",
    "print(response)"
   ]
  }
 ]
}